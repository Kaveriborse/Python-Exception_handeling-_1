{
 "cells": [
  {
   "cell_type": "markdown",
   "id": "727b5fff",
   "metadata": {},
   "source": [
    "# 1. What is the role of try and exception block?"
   ]
  },
  {
   "cell_type": "markdown",
   "id": "3b165ede",
   "metadata": {},
   "source": [
    "The try and except blocks in Python are used for handling exceptions, which are runtime errors that occur during the execution of a program. They play a crucial role in managing errors and preventing a program from crashing when unexpected situations arise.\n",
    "\n",
    "The primary purpose of the try and except blocks is to provide a structured way to handle exceptions and gracefully handle unexpected situations that could otherwise disrupt the normal flow of the program. Here's how they work:\n",
    "\n",
    "Try Block: The code that might raise an exception is placed within the try block. Python tries to execute the statements in this block, and if an exception occurs during their execution, the program flow is immediately transferred to the except block.\n",
    "\n",
    "Except Block: The except block is where you define the actions to be taken in response to specific types of exceptions. It allows you to catch the exception, perform necessary operations, and potentially continue program execution without causing a crash.\n",
    "\n",
    "The try and except blocks can also be extended with multiple except blocks for handling different types of exceptions, and you can include an optional else block to specify code that should be executed when no exceptions occur. Additionally, a finally block can be used to define cleanup code that runs regardless of whether an exception was raised.\n",
    "\n",
    "Using try and except blocks enhances the robustness of your code by allowing you to gracefully handle errors, provide informative error messages, and ensure that your program continues to function even in the face of unexpected issues.\n",
    "\n",
    "\n",
    "\n",
    "\n"
   ]
  },
  {
   "cell_type": "markdown",
   "id": "2381d8d7",
   "metadata": {},
   "source": [
    "# 2. What is the syntax for a basic try-except block?"
   ]
  },
  {
   "cell_type": "markdown",
   "id": "fbcd4a8c",
   "metadata": {},
   "source": [
    "The basic syntax for a try-except block in Python is as follows:\n",
    "\n",
    "\n"
   ]
  },
  {
   "cell_type": "code",
   "execution_count": null,
   "id": "a7704dbe",
   "metadata": {},
   "outputs": [],
   "source": [
    "try:\n",
    "    # Code that might raise an exception\n",
    "    # ...\n",
    "except ExceptionType:\n",
    "    # Code to handle the specific exception\n",
    "    # ..."
   ]
  },
  {
   "cell_type": "markdown",
   "id": "f81fde17",
   "metadata": {},
   "source": [
    "Here's a breakdown of the elements in this syntax:\n",
    "\n",
    "try Block: This block contains the code that you expect might raise an exception. Python attempts to execute the statements within this block.\n",
    "\n",
    "except Block: If an exception of the specified ExceptionType occurs in the try block, the program flow is immediately transferred to the except block. Here, you can define how to handle that specific exception.\n",
    "\n",
    "We can use multiple except blocks to catch different types of exceptions and handle them differently. Additionally, we can include an optional else block to define code that should run when no exceptions occur, and a finally block to define cleanup code that should execute regardless of whether an exception was raised."
   ]
  },
  {
   "cell_type": "markdown",
   "id": "187aa877",
   "metadata": {},
   "source": [
    "# 3. What happens if an exception occurs inside a try block and there is no matching except block?"
   ]
  },
  {
   "cell_type": "markdown",
   "id": "8ecd2633",
   "metadata": {},
   "source": [
    "If an exception occurs inside a try block and there is no matching except block to handle that specific exception type, the exception will not be caught, and the program will terminate abruptly. This behavior is known as an \"unhandled exception.\"\n",
    "\n",
    "Here's what happens in this scenario:\n",
    "\n",
    "The code inside the try block is executed.\n",
    "If an exception occurs within the try block, Python checks if there is a matching except block for that exception type.\n",
    "If a matching except block is found, the program continues executing the code within that except block, handling the exception.\n",
    "\n",
    "If no matching except block is found, the unhandled exception propagates up the call stack, and the program terminates. An error message is typically displayed indicating the type of the exception and the location where it occurred.\n",
    "\n",
    "To avoid unhandled exceptions, it's a good practice to include except blocks that cover the specific types of exceptions that might occur within the corresponding try blocks. If you're not sure which exception types might be raised, you can use a more general except block, such as except Exception, but it's better to handle exceptions more specifically whenever possible for better error management and debugging.\n",
    "\n",
    "\n",
    "\n",
    "\n",
    "\n",
    "\n"
   ]
  },
  {
   "cell_type": "markdown",
   "id": "2e79c2f7",
   "metadata": {},
   "source": [
    "# 4. What is the difference between using a bare except block and specifying a specific exception type?"
   ]
  },
  {
   "cell_type": "markdown",
   "id": "90d941b7",
   "metadata": {},
   "source": [
    "In try and except blocks, there's a distinction between using a bare except block and specifying a specific exception type. Let's explore the differences:\n",
    "\n",
    "Bare except Block:\n",
    "\n",
    "A bare except block, also known as a generic except block, catches all types of exceptions. It's written as except: without specifying any particular exception type. For example:\n",
    "\n",
    "Advantages:\n",
    "\n",
    "It catches all exceptions, including unexpected ones.\n",
    "Useful for handling unexpected errors and preventing program crashes.\n",
    "Disadvantages:\n",
    "\n",
    "It can make debugging difficult since you don't know the exact exception type.\n",
    "It might hide bugs by suppressing specific exception information.\n",
    "Overuse of bare except blocks can lead to unclear error handling."
   ]
  },
  {
   "cell_type": "markdown",
   "id": "689d4d62",
   "metadata": {},
   "source": [
    "Specific Exception Type:\n",
    "\n",
    "Specifying a specific exception type in the except block, such as except ValueError: or except FileNotFoundError:, catches only that particular type of exception. \n",
    "\n",
    "Advantages:\n",
    "\n",
    "More precise error handling because you can provide tailored solutions for specific exceptions.\n",
    "Better debugging because you know which exception types to expect and address.\n",
    "You can catch and handle different exceptions differently.\n",
    "Disadvantages:\n",
    "\n",
    "We need to anticipate and list all potential exception types in your except blocks.\n",
    "\n",
    "It might require more code if you need to handle multiple exception types.\n",
    "\n",
    "In short, while bare except blocks can catch unexpected errors, they are generally discouraged due to their potential to hide issues and make debugging challenging. It's considered best practice to use specific except blocks whenever possible, as they allow you to handle exceptions more precisely and provide clearer error management in your code.\n",
    "\n",
    "\n"
   ]
  },
  {
   "cell_type": "markdown",
   "id": "87096106",
   "metadata": {},
   "source": [
    "# 5. Can you have nested try-except blocks in Python? If yes, then give an example."
   ]
  },
  {
   "cell_type": "markdown",
   "id": "cc2fa64a",
   "metadata": {},
   "source": [
    "Yes, you can have nested try-except blocks in Python. This means you can place one try-except block inside another. This is useful when you want to handle different types of exceptions in different contexts, possibly at different levels of your code.\n",
    "\n",
    "The inner try block encounters the ZeroDivisionError, and the inner except block catches it and prints an error message. Since the inner except block handles the exception, the outer except blocks are not executed.\n",
    "\n",
    "We should remember that each except block only handles exceptions from the corresponding try block or its nested blocks. If we need to handle exceptions at different levels or with different strategies, we can use nested try-except blocks to provide more specific and appropriate error handling.\n",
    "\n",
    "\n",
    "\n",
    "\n",
    "\n",
    "\n"
   ]
  },
  {
   "cell_type": "code",
   "execution_count": null,
   "id": "7fdfc4d9",
   "metadata": {},
   "outputs": [],
   "source": [
    "#Here's an example of nested try-except blocks:\n",
    "\n",
    "try:\n",
    "    # Outer try block\n",
    "    numerator = 10\n",
    "    denominator = 0\n",
    "\n",
    "    try:\n",
    "        # Inner try block\n",
    "        result = numerator / denominator  # This will raise a ZeroDivisionError\n",
    "    except ZeroDivisionError:\n",
    "        print(\"Inner except: Division by zero\")\n",
    "except ZeroDivisionError:\n",
    "    print(\"Outer except: Division by zero\")\n",
    "except Exception as e:\n",
    "    print(\"Outer except:\", e)\n",
    "    \n",
    "'''\n",
    "In this example, the outer try block attempts to execute the code that raises a ZeroDivisionError. However, it doesn't \n",
    "directly handle this exception. Instead, it contains an inner try block that attempts the division operation.\n",
    "\n",
    "'''"
   ]
  },
  {
   "cell_type": "markdown",
   "id": "48f123f2",
   "metadata": {},
   "source": [
    "# 6. Can we use multiple exception blocks, if yes then give an example."
   ]
  },
  {
   "cell_type": "markdown",
   "id": "c26cd1c1",
   "metadata": {},
   "source": [
    "Yes, we can use multiple except blocks to handle different types of exceptions in Python's try-except construct. This allows we to provide specific error handling for various exception scenarios. Each except block handles a particular type of exception that might be raised in the corresponding try block.\n",
    "\n",
    "\n",
    "A ZeroDivisionError occurs if the user enters 0.\n",
    "\n",
    "A ValueError occurs if the user enters a non-integer value.\n",
    "\n",
    "There are three separate except blocks, each handling a specific type of exception. The else block contains code that runs when no exceptions occur, and the finally block contains cleanup code that always executes, whether an exception occurred or not.\n",
    "\n",
    "Using multiple except blocks allows you to provide targeted and customized error handling for different exception types, leading to more robust and user-friendly programs.\n",
    "\n",
    "\n",
    "\n",
    "\n",
    "\n"
   ]
  },
  {
   "cell_type": "code",
   "execution_count": null,
   "id": "b04d7952",
   "metadata": {},
   "outputs": [],
   "source": [
    "#Here's an example that demonstrates the use of multiple except blocks:\n",
    "try:\n",
    "    value = int(input(\"Enter a number: \"))\n",
    "    result = 10 / value  # This may raise ZeroDivisionError or ValueError\n",
    "except ZeroDivisionError:\n",
    "    print(\"Error: Division by zero\")\n",
    "except ValueError:\n",
    "    print(\"Error: Invalid input. Please enter a valid number.\")\n",
    "except Exception as e:\n",
    "    print(\"An unexpected error occurred:\", e)\n",
    "else:\n",
    "    print(\"Result:\", result)\n",
    "finally:\n",
    "    print(\"Execution complete.\")\n",
    "\n",
    "'''\n",
    "In this example, the try block attempts to take user input, convert it to an integer, and then perform a division operation.\n",
    "There are multiple possible exceptions that can be raised:\n",
    "'''    "
   ]
  },
  {
   "cell_type": "markdown",
   "id": "8710a23a",
   "metadata": {},
   "source": [
    "# 7. Write the reason due to which following errors are raised:\n",
    "a. EOFError\n",
    "\n",
    "b. FloatingPointError\n",
    "\n",
    "c. IndexError\n",
    "\n",
    "d. MemoryError\n",
    "\n",
    "e. OverflowError\n",
    "\n",
    "f. TabError\n",
    "\n",
    "g. ValueError"
   ]
  },
  {
   "cell_type": "markdown",
   "id": "887c79bd",
   "metadata": {},
   "source": [
    "    a. EOFError:\n",
    "\n",
    "Raised when the built-in function input() hits the end-of-file (EOF) condition without receiving any input.\n",
    "Example: Running input() in a Python script and then pressing Ctrl+D (on Unix-like systems) or Ctrl+Z (on Windows) without providing any input.\n",
    "\n",
    "    b. FloatingPointError:\n",
    "\n",
    "Raised when a floating-point operation fails due to a specific error, such as division by zero.\n",
    "Example: Attempting to divide by zero with floating-point numbers, like 0.0 / 0.0 or 1.0 / 0.0.\n",
    "\n",
    "    c. IndexError:\n",
    "\n",
    "Raised when an index is out of range (either too large or negative) in a sequence (like a list, tuple, or string).\n",
    "Example: Trying to access an element in a list at an index that doesn't exist, such as my_list[10] when my_list has fewer than 11 elements.\n",
    "\n",
    "    d. MemoryError:\n",
    "\n",
    "Raised when an operation cannot be completed due to insufficient memory.\n",
    "Example: Attempting to create a very large list or allocate more memory than available.\n",
    "\n",
    "    e. OverflowError:\n",
    "\n",
    "Raised when an arithmetic operation exceeds the limits of the data type, resulting in an overflow.\n",
    "Example: Calculating an integer that is too large to be represented using the available number of bits, like 2 ** 1000.\n",
    "\n",
    "    f. TabError:\n",
    "\n",
    "Raised when inconsistent or improper indentation (tabs and spaces) is used in the code.\n",
    "Example: Mixing tabs and spaces for indentation in a Python script.\n",
    "\n",
    "    g. ValueError:\n",
    "\n",
    "Raised when an operation receives an argument of the correct type but with an invalid value.\n",
    "Example: Using the int() function to convert a string that cannot be interpreted as an integer, like int(\"abc\").\n",
    "Each error has a specific context in which it occurs, and understanding these reasons helps in debugging and writing more robust code.\n",
    "\n",
    "\n",
    "\n",
    "\n",
    "\n"
   ]
  },
  {
   "cell_type": "markdown",
   "id": "311a9bc2",
   "metadata": {},
   "source": [
    "# 8. Write code for the following given scenario and add try-exception block to it.\n",
    "a. Program to divide two numbers\n",
    "\n",
    "b. Program to convert a string to an integer\n",
    "\n",
    "c. Program to access an element in a list\n",
    "\n",
    "d. Program to handle a specific exception\n",
    "\n",
    "e. Program to handle any exception"
   ]
  },
  {
   "cell_type": "code",
   "execution_count": 4,
   "id": "49310a57",
   "metadata": {},
   "outputs": [],
   "source": [
    "#a. Program to divide two numbers:\n",
    "def divide_numbers(a, b):\n",
    "    try:\n",
    "        result = a / b\n",
    "        return result\n",
    "    except ZeroDivisionError:\n",
    "        print(\"Error: Division by zero is not allowed\")\n",
    "        return None\n",
    "numerator = 10\n",
    "denominator = 0\n",
    "result = divide_numbers(numerator, denominator)\n",
    "if result is not None:\n",
    "    print(\"Result:\", result)"
   ]
  },
  {
   "cell_type": "code",
   "execution_count": 5,
   "id": "2bbb8d32",
   "metadata": {},
   "outputs": [],
   "source": [
    "#b. Program to convert a string to an integer:\n",
    "def convert_to_integer(s):\n",
    "    try:\n",
    "        integer_value = int(s)\n",
    "        return integer_value\n",
    "    except ValueError:\n",
    "        print(\"Error: Invalid input. Cannot convert to integer.\")\n",
    "        return None\n",
    "input_string = \"123\"\n",
    "converted_value = convert_to_integer(input_string)\n",
    "if converted_value is not None:\n",
    "    print(\"Converted Integer:\", converted_value)"
   ]
  },
  {
   "cell_type": "code",
   "execution_count": 6,
   "id": "c074ec9a",
   "metadata": {},
   "outputs": [],
   "source": [
    "#c. Program to access an element in a list:\n",
    "def access_list_element(lst, index):\n",
    "    try:\n",
    "        element = lst[index]\n",
    "        return element\n",
    "    except IndexError:\n",
    "        print(\"Error: Index out of range\")\n",
    "        return None"
   ]
  },
  {
   "cell_type": "code",
   "execution_count": null,
   "id": "fb4cc3b9",
   "metadata": {},
   "outputs": [],
   "source": [
    "#e. Program to handle any exception:\n",
    "try:\n",
    "    x = 10\n",
    "    y = 0\n",
    "    result = x / y\n",
    "    print(\"Result:\", result)\n",
    "except Exception as e:\n",
    "    print(\"An error occurred:\", str(e))"
   ]
  }
 ],
 "metadata": {
  "kernelspec": {
   "display_name": "Python 3 (ipykernel)",
   "language": "python",
   "name": "python3"
  },
  "language_info": {
   "codemirror_mode": {
    "name": "ipython",
    "version": 3
   },
   "file_extension": ".py",
   "mimetype": "text/x-python",
   "name": "python",
   "nbconvert_exporter": "python",
   "pygments_lexer": "ipython3",
   "version": "3.9.7"
  }
 },
 "nbformat": 4,
 "nbformat_minor": 5
}
